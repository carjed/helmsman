{
 "cells": [
  {
   "cell_type": "markdown",
   "metadata": {},
   "source": [
    "# Helmsman Tutorial\n",
    "\n",
    "## Overview \n",
    "\n",
    "This tutorial notebook contains several demos of how to use Helmsman.\n",
    "\n"
   ]
  },
  {
   "cell_type": "markdown",
   "metadata": {},
   "source": [
    "### Display helmsman's help prompt\n",
    "\n",
    "To list all available options for Helmsman, use the following command:"
   ]
  },
  {
   "cell_type": "code",
   "execution_count": null,
   "metadata": {},
   "outputs": [],
   "source": [
    "!python helmsman.py -h"
   ]
  },
  {
   "cell_type": "markdown",
   "metadata": {},
   "source": [
    "### Download example VCFs+reference genome\n",
    "\n",
    "For the examples provided in this tutorial, you will need to download the following files from the Google Cloud Genomics storage repository\n",
    "\n",
    "- gzipped VCF files for Chr21 and Chr22 from the 1000 Genomes Phase 3 project\n",
    "- GRCh37-lite reference genome"
   ]
  },
  {
   "cell_type": "code",
   "execution_count": null,
   "metadata": {},
   "outputs": [],
   "source": [
    "!wget https://storage.googleapis.com/genomics-public-data/ftp-trace.ncbi.nih.gov/1000genomes/ftp/release/20130502/ALL.chr21.phase3_shapeit2_mvncall_integrated_v5a.20130502.genotypes.vcf.gz\n",
    "!wget https://storage.googleapis.com/genomics-public-data/ftp-trace.ncbi.nih.gov/1000genomes/ftp/release/20130502/ALL.chr22.phase3_shapeit2_mvncall_integrated_v5a.20130502.genotypes.vcf.gz\n",
    "!wget https://storage.googleapis.com/genomics-public-data/references/GRCh37lite/GRCh37-lite.fa.gz\n",
    "!gunzip GRCh37-lite.fa.gz"
   ]
  },
  {
   "cell_type": "markdown",
   "metadata": {},
   "source": [
    "## Run Helmsman on single VCF\n",
    "\n",
    "The default input for Helmsman is a single VCF file. The following examples run Helmsman separately on the 1000 Genomes VCFs for Chromosome 21 and Chromosome 22. To keep the output from both chromosomes, we use the `--projectdir \"1kg_chr[N]\"` option."
   ]
  },
  {
   "cell_type": "code",
   "execution_count": null,
   "metadata": {},
   "outputs": [],
   "source": [
    "!python helmsman.py \\\n",
    "    --mode vcf \\\n",
    "    --input ALL.chr21.phase3_shapeit2_mvncall_integrated_v5a.20130502.genotypes.vcf.gz \\\n",
    "    --fastafile GRCh37-lite.fa \\\n",
    "    --projectdir \"1kg_chr21\" \\\n",
    "    --decomp pca \\\n",
    "    --rank 4 \\\n",
    "    --seed 6724420 \\\n",
    "    --maxac 0 \\\n",
    "    --verbose"
   ]
  },
  {
   "cell_type": "code",
   "execution_count": null,
   "metadata": {},
   "outputs": [],
   "source": [
    "!python helmsman.py \\\n",
    "    --mode vcf \\\n",
    "    --input ALL.chr22.phase3_shapeit2_mvncall_integrated_v5a.20130502.genotypes.vcf.gz \\\n",
    "    --fastafile GRCh37-lite.fa \\\n",
    "    --projectdir \"1kg_chr22\" \\\n",
    "    --decomp pca \\\n",
    "    --rank 4 \\\n",
    "    --seed 6724420 \\\n",
    "    --maxac 0 \\\n",
    "    --verbose"
   ]
  },
  {
   "cell_type": "markdown",
   "metadata": {},
   "source": [
    "## Run Helmsman in a pipeline\n",
    "\n",
    "In VCF mode, Helmsman will accept input piped from other programs by specifying `--input -`, allowing the user to perform any number of pre-processing steps to the VCF file. In the example below, we are pre-filtering the Chr22 VCF with bcftools to include only biallelic SNVs:"
   ]
  },
  {
   "cell_type": "code",
   "execution_count": null,
   "metadata": {},
   "outputs": [],
   "source": [
    "!bcftools view -m2 -M2 -v snps ALL.chr22.phase3_shapeit2_mvncall_integrated_v5a.20130502.genotypes.vcf.gz | \\\n",
    "    python helmsman.py \\\n",
    "        --mode vcf \\\n",
    "        --input - \\\n",
    "        --projectdir \"1kg_chr22\" \\\n",
    "        --decomp pca \\\n",
    "        --rank 4 \\\n",
    "        --seed 6724420 \\\n",
    "        --maxac 0 \\\n",
    "        --verbose"
   ]
  },
  {
   "cell_type": "markdown",
   "metadata": {},
   "source": [
    "## Run Helmsman on multiple VCFs\n",
    "\n",
    "In VCF mode, Helmsman will also accept a text file containing the file paths of the VCFs we wish to process (one per line).\n",
    "\n",
    "This example runs with the `--cpus` option to enable parallel processing of the VCFs."
   ]
  },
  {
   "cell_type": "code",
   "execution_count": null,
   "metadata": {},
   "outputs": [],
   "source": [
    "# create input text file\n",
    "!ls *.vcf.gz > vcfs.txt\n",
    "\n",
    "# confirm text file has the VCFs we want\n",
    "!cat vcfs.txt\n",
    "\n",
    "# run Helmsman with VCF list as input\n",
    "!python helmsman.py \\\n",
    "    --mode vcf \\\n",
    "    --input vcfs.txt \\\n",
    "    --fastafile GRCh37-lite.fa \\\n",
    "    --projectdir \"1kg_combined\" \\\n",
    "    --cpus 2"
   ]
  },
  {
   "cell_type": "markdown",
   "metadata": {},
   "source": [
    "## Run Helmsman on an existing count matrix\n",
    "\n",
    "In some cases, you may wish to re-run the mutation signature analysis using different options (e.g., with a different rank). To avoid having to re-generate the input matrix, you can use Helmsman in aggregation mode (`--mode agg`), and supply an existing matrix as the input. Here we are using the count matrix we previously generated from the Chr21 VCF."
   ]
  },
  {
   "cell_type": "code",
   "execution_count": null,
   "metadata": {},
   "outputs": [],
   "source": [
    "!python helmsman.py \\\n",
    "  --mode agg \\\n",
    "  --input \"1kg_chr21/NMF_M_spectra.txt\" \\\n",
    "  --verbose \\\n",
    "  --rank 4"
   ]
  },
  {
   "cell_type": "markdown",
   "metadata": {},
   "source": [
    "## Aggregation mode with multiple input matrices\n",
    "\n",
    "You may also encounter situations where you have generated count matrices on partitions of your data and need to recombine them. Helmsman can aggregate data in two ways:\n",
    "\n",
    "- combining from runs on data split by genomic regions (but in identical samples)\n",
    "- combining from runs on data split by different samples"
   ]
  },
  {
   "cell_type": "markdown",
   "metadata": {},
   "source": [
    "### Aggregating output from different regions\n",
    "\n",
    "If you need to combine output from multiple previous Helmsman runs on non-overlapping genomic regions, create a text file named `m_regions.txt` containing the paths to the count matrices (one per line), and use as the input file in aggregation mode (`--mode agg`).\n",
    "\n",
    "This mode is particularly useful if you are working with very large datasets (>10,000 samples), as you can split the input into small regions and spawn many simultaneous Helmsman runs using Slurm or other workload managers. \n",
    "\n",
    "Note that the input matrices **must** have identical dimensions. **Samples must be ordered identically in the rows of each matrix.**"
   ]
  },
  {
   "cell_type": "code",
   "execution_count": null,
   "metadata": {},
   "outputs": [],
   "source": [
    "# create text file containing paths of count matrices from the chr21 and chr22 output\n",
    "!find . -type d -name \"1kg_chr*\" -exec find {} -type f -name \"*spectra.txt\" \\; > m_regions.txt\n",
    "\n",
    "# confirm text file has the count matrices we want\n",
    "!cat m_regions.txt\n",
    "\n",
    "# if input file is named \"m_regions.txt,\" Helmsman will add matrices element-wise\n",
    "!python helmsman.py \\\n",
    "  --mode agg \\\n",
    "  --input m_regions.txt \\\n",
    "  --verbose \\\n",
    "  --rank 4"
   ]
  },
  {
   "cell_type": "markdown",
   "metadata": {},
   "source": [
    "### Aggregating output from different subsamples\n",
    "\n",
    "In some instances, your data may be split into sub-samples--Helmsman can be run on these separately to generate the subsample count matrices, and then run again in aggregation mode to concatenate these matrices. To aggregate in this way, create a text file named `m_samples.txt` containing the paths to the subsample count matrices (one per line), and use as the input file in aggregation mode (`--mode agg`).\n",
    "\n",
    "We recommend caution when using this mode; data should usually be split into subsamples only after variant calling has been performed over the entire sample."
   ]
  },
  {
   "cell_type": "code",
   "execution_count": null,
   "metadata": {},
   "outputs": [],
   "source": [
    "# create text file containing paths of count matrices from the chr21 and chr22 output\n",
    "!find . -type d -name \"1kg_chr*\" -exec find {} -type f -name \"*spectra.txt\" \\; > m_samples.txt\n",
    "\n",
    "# confirm text file has the count matrices we want\n",
    "!cat m_samples.txt\n",
    "\n",
    "# if input file is named \"m_samples.txt,\" Helmsman will concatenate matrices rowwise\n",
    "# i.e., if matrix 1 is N1xK and matrix 2 is N2xK, the new matrix will be (N1+N2)xK\n",
    "!python helmsman.py \\\n",
    "  --mode agg \\\n",
    "  --input m_samples.txt \\\n",
    "  --verbose \\\n",
    "  --rank 4"
   ]
  },
  {
   "cell_type": "markdown",
   "metadata": {},
   "source": [
    "### Generate R script for compatibility between Helmsman and other mutation signature analysis packages\n",
    "\n",
    "Helmsman was designed to serve as a single point-of-entry for other mutation signature analysis tools, enabling use of these tools for arbitrarily large datasets. These tools all have slightly different formatting requirements for the mutation spectra matrix, so Helmsman includes the`--package` option to generate an R script containing code necessary to coerce the output matrix into a format compatible with the specified package.\n",
    "\n",
    "For example, suppose we want to analyze our data with the `SomaticSignatures` package. This package requires the Nx96 input matrix to be transposed, such that the mutation subtypes are the rows, and the sample IDs are the columns. Also, instead of the subtype format used by Helmsman (e.g., C_A.TCG), subtypes are formatted as \"CA T.G\".\n",
    "\n",
    "The code below includes the `--package SomaticSignatures` option, which will write an R script to `1kg_chr21/Helmsman_to_SomaticSignatures.R`. Sourcing this script from within R will run the following commands:\n",
    "- load the `SomaticSignatures` and `devtools` packages (assuming these have already been installed)\n",
    "- install the `musigtools` package from GitHub\n",
    "- read the mutation spectra matrix generated by Helmsman\n",
    "- coerce the mutation spectra matrix into a format compatible with `SomaticSignatures`"
   ]
  },
  {
   "cell_type": "code",
   "execution_count": null,
   "metadata": {},
   "outputs": [],
   "source": [
    "!python helmsman.py \\\n",
    "    --mode vcf \\\n",
    "    --input ALL.chr21.phase3_shapeit2_mvncall_integrated_v5a.20130502.genotypes.vcf.gz \\\n",
    "    --fastafile GRCh37-lite.fa \\\n",
    "    --projectdir \"1kg_chr21\" \\\n",
    "    --decomp pca \\\n",
    "    --rank 4 \\\n",
    "    --seed 6724420 \\\n",
    "    --maxac 0 \\\n",
    "    --package SomaticSignatures \\\n",
    "    --verbose"
   ]
  }
 ],
 "metadata": {
  "kernelspec": {
   "display_name": "Python 3",
   "language": "python",
   "name": "python3"
  },
  "language_info": {
   "codemirror_mode": {
    "name": "ipython",
    "version": 3
   },
   "file_extension": ".py",
   "mimetype": "text/x-python",
   "name": "python",
   "nbconvert_exporter": "python",
   "pygments_lexer": "ipython3",
   "version": "3.6.6"
  }
 },
 "nbformat": 4,
 "nbformat_minor": 2
}
